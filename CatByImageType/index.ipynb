{
 "cells": [
  {
   "cell_type": "markdown",
   "id": "a2a8217b-2ca4-411e-b7c1-d68140516098",
   "metadata": {},
   "source": [
    "## This is a script to categorize images based on image type. Copy from the source file withh meta data to the destination folder."
   ]
  },
  {
   "cell_type": "code",
   "execution_count": 8,
   "id": "14617397-95dd-4efa-80ca-08653444117f",
   "metadata": {},
   "outputs": [],
   "source": [
    "import shutil\n",
    "import os"
   ]
  },
  {
   "cell_type": "code",
   "execution_count": 10,
   "id": "313001e9-264e-430e-89ce-cc1af8c10ee1",
   "metadata": {},
   "outputs": [
    {
     "name": "stdout",
     "output_type": "stream",
     "text": [
      "✅ Images copied and sorted into folders!\n"
     ]
    }
   ],
   "source": [
    "# Get the current directory\n",
    "current_directory = os.getcwd()\n",
    "\n",
    "# Define folder structure for each image type\n",
    "folder_mapping = {\n",
    "    \".jpg\": \"jpeg\",\n",
    "    \".jpeg\": \"jpeg\",\n",
    "    \".png\": \"png\",\n",
    "    \".gif\": \"gif\"\n",
    "}\n",
    "\n",
    "# Create folders if they don't exist\n",
    "for folder in set(folder_mapping.values()):\n",
    "    os.makedirs(os.path.join(current_directory, folder), exist_ok=True)\n",
    "    \n",
    "\n",
    "# Copy files\n",
    "for file in os.listdir(current_directory):\n",
    "    file_ext = os.path.splitext(file)[1].lower()  # Get file extension\n",
    "    if file_ext in folder_mapping:\n",
    "        source_path = os.path.join(current_directory, file)\n",
    "        destination_folder = os.path.join(current_directory, folder_mapping[file_ext])\n",
    "        shutil.copy2(source_path, destination_folder)  # Copy with metadata\n",
    "\n",
    "print(\"✅ Images copied and sorted into folders!\")"
   ]
  },
  {
   "cell_type": "code",
   "execution_count": null,
   "id": "9734afd5-dc36-4890-9dfa-f35511e2d27a",
   "metadata": {},
   "outputs": [],
   "source": []
  }
 ],
 "metadata": {
  "kernelspec": {
   "display_name": "Python [conda env:base] *",
   "language": "python",
   "name": "conda-base-py"
  },
  "language_info": {
   "codemirror_mode": {
    "name": "ipython",
    "version": 3
   },
   "file_extension": ".py",
   "mimetype": "text/x-python",
   "name": "python",
   "nbconvert_exporter": "python",
   "pygments_lexer": "ipython3",
   "version": "3.11.7"
  }
 },
 "nbformat": 4,
 "nbformat_minor": 5
}
